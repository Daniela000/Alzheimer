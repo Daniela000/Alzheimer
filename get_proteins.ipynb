{
 "cells": [
  {
   "cell_type": "markdown",
   "metadata": {},
   "source": [
    "Get VIP > 1 proteins  "
   ]
  },
  {
   "cell_type": "code",
   "execution_count": 1,
   "metadata": {},
   "outputs": [],
   "source": [
    "import pandas as pd"
   ]
  },
  {
   "cell_type": "code",
   "execution_count": 23,
   "metadata": {},
   "outputs": [],
   "source": [
    "#def min_max_normalize_row(row):\n",
    "    #return (row[2:] - row[2:].min()) / (row[2:].max() - row[2:].min())"
   ]
  },
  {
   "cell_type": "code",
   "execution_count": null,
   "metadata": {},
   "outputs": [],
   "source": [
    "dir = 'Lisboa+Coimbra'"
   ]
  },
  {
   "cell_type": "code",
   "execution_count": 6,
   "metadata": {},
   "outputs": [
    {
     "ename": "SyntaxError",
     "evalue": "invalid syntax. Perhaps you forgot a comma? (2419779784.py, line 1)",
     "output_type": "error",
     "traceback": [
      "\u001b[1;36m  Cell \u001b[1;32mIn[6], line 1\u001b[1;36m\u001b[0m\n\u001b[1;33m    df_all = pd.read_csv('../data/'+dir'/all_data_metaboAnalyst.csv')\u001b[0m\n\u001b[1;37m                         ^\u001b[0m\n\u001b[1;31mSyntaxError\u001b[0m\u001b[1;31m:\u001b[0m invalid syntax. Perhaps you forgot a comma?\n"
     ]
    }
   ],
   "source": [
    "df_all = pd.read_csv('../data/'+dir+'/all_data_metaboAnalyst.csv')\n",
    "#df_all = pd.read_csv('../data/Lisbon+Coimbra/all_data_metaboAnalyst.csv')"
   ]
  },
  {
   "cell_type": "code",
   "execution_count": 4,
   "metadata": {},
   "outputs": [],
   "source": [
    "df_all_normalized = df_all.copy()\n",
    "#df_all_normalized.iloc[:, 2:] = df_all_normalized.apply(min_max_normalize_row, axis=1)\n",
    "df_all_normalized.iloc[:, 2:] = (df_all_normalized.iloc[:, 2:] -df_all_normalized.iloc[:, 2:].min())/(df_all_normalized.iloc[:, 2:].max() - df_all_normalized.iloc[:, 2:].min())\n",
    "#df_all_normalized.to_csv('../data/coimbra/normalized_data.csv', index=False)"
   ]
  },
  {
   "cell_type": "code",
   "execution_count": 5,
   "metadata": {},
   "outputs": [
    {
     "name": "stdout",
     "output_type": "stream",
     "text": [
      "168\n"
     ]
    },
    {
     "name": "stderr",
     "output_type": "stream",
     "text": [
      "C:\\Users\\danis\\AppData\\Local\\Temp\\ipykernel_26056\\1844922739.py:8: SettingWithCopyWarning: \n",
      "A value is trying to be set on a copy of a slice from a DataFrame.\n",
      "Try using .loc[row_indexer,col_indexer] = value instead\n",
      "\n",
      "See the caveats in the documentation: https://pandas.pydata.org/pandas-docs/stable/user_guide/indexing.html#returning-a-view-versus-a-copy\n",
      "  df_proteins['Code'] = df_all_normalized['Code']\n",
      "C:\\Users\\danis\\AppData\\Local\\Temp\\ipykernel_26056\\1844922739.py:9: SettingWithCopyWarning: \n",
      "A value is trying to be set on a copy of a slice from a DataFrame.\n",
      "Try using .loc[row_indexer,col_indexer] = value instead\n",
      "\n",
      "See the caveats in the documentation: https://pandas.pydata.org/pandas-docs/stable/user_guide/indexing.html#returning-a-view-versus-a-copy\n",
      "  df_proteins['Group'] = df_all_normalized['Group']\n"
     ]
    }
   ],
   "source": [
    "#df_plsda = pd.read_csv('../data/lisbon/plsda_vip_lisbon_2.csv')\n",
    "df_plsda = pd.read_csv('../data/'+dir+'/plsda_vip_2.csv')\n",
    "df_plsda = df_plsda.loc[df_plsda['Comp. 1'] >= 1]\n",
    "\n",
    "proteins = df_plsda['Unnamed: 0'].tolist()\n",
    "\n",
    "df_proteins = df_all_normalized[proteins]\n",
    "df_proteins['Code'] = df_all_normalized['Code']\n",
    "df_proteins['Group'] = df_all_normalized['Group']\n",
    "print(len(proteins))\n",
    "#df_165_proteins[['Code']]\n",
    "#df_165_proteins = df_165_proteins.T\n",
    "#df_165_proteins['VIP'] = df_plsda['Comp. 1']\n",
    "\n",
    "df_proteins.to_csv('../data/'+dir+'/{}_min_max_proteins.csv'.format(len(proteins)), index=False)"
   ]
  }
 ],
 "metadata": {
  "kernelspec": {
   "display_name": "Python 3",
   "language": "python",
   "name": "python3"
  },
  "language_info": {
   "codemirror_mode": {
    "name": "ipython",
    "version": 3
   },
   "file_extension": ".py",
   "mimetype": "text/x-python",
   "name": "python",
   "nbconvert_exporter": "python",
   "pygments_lexer": "ipython3",
   "version": "3.10.11"
  }
 },
 "nbformat": 4,
 "nbformat_minor": 2
}
