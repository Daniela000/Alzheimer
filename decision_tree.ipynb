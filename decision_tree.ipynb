{
 "cells": [
  {
   "cell_type": "markdown",
   "metadata": {},
   "source": [
    "## Lisbon VS Coimbra"
   ]
  },
  {
   "cell_type": "code",
   "execution_count": 2,
   "metadata": {},
   "outputs": [],
   "source": [
    "import pandas as pd"
   ]
  },
  {
   "cell_type": "markdown",
   "metadata": {},
   "source": [
    "Global"
   ]
  },
  {
   "cell_type": "code",
   "execution_count": 21,
   "metadata": {},
   "outputs": [],
   "source": [
    "# using 165 features (VIP > 1)\n",
    "proteins_165 = pd.read_csv('../data/Lisbon+Coimbra/165_proteins_all.csv')"
   ]
  },
  {
   "cell_type": "code",
   "execution_count": 35,
   "metadata": {},
   "outputs": [
    {
     "data": {
      "text/plain": [
       "['IBP7', 'SODE', 'TTHY', 'FETUA', 'NBL1', 'CIP4', 'FHR1', 'APOA1', 'APOA4']"
      ]
     },
     "execution_count": 35,
     "metadata": {},
     "output_type": "execute_result"
    }
   ],
   "source": [
    "# 9 common significant features between both cohorts (p-values < 0.05)\n",
    "lisbon_proteins = pd.read_csv('../data/lisbon/volcano.csv')\n",
    "coimbra_proteins = pd.read_csv('../data/coimbra/volcano.csv')\n",
    "common_proteins = list(set(lisbon_proteins.iloc[:,0]).intersection(set(coimbra_proteins.iloc[:,0])))\n",
    "common_proteins"
   ]
  },
  {
   "cell_type": "code",
   "execution_count": 34,
   "metadata": {},
   "outputs": [
    {
     "data": {
      "text/plain": [
       "9"
      ]
     },
     "execution_count": 34,
     "metadata": {},
     "output_type": "execute_result"
    }
   ],
   "source": [
    "# 44 common features (vip > 1)\n",
    "#lisbon_proteins = pd.read_csv('../data/lisbon/164_min_max_proteins_lisbon.csv')\n",
    "#coimbra_proteins = pd.read_csv('../data/coimbra/168_min_max_proteins.csv')\n",
    "\n",
    "len(common_proteins)"
   ]
  },
  {
   "cell_type": "markdown",
   "metadata": {},
   "source": [
    "Lisbon"
   ]
  },
  {
   "cell_type": "markdown",
   "metadata": {},
   "source": [
    "Coimbra"
   ]
  }
 ],
 "metadata": {
  "kernelspec": {
   "display_name": "Python 3",
   "language": "python",
   "name": "python3"
  },
  "language_info": {
   "codemirror_mode": {
    "name": "ipython",
    "version": 3
   },
   "file_extension": ".py",
   "mimetype": "text/x-python",
   "name": "python",
   "nbconvert_exporter": "python",
   "pygments_lexer": "ipython3",
   "version": "3.10.11"
  }
 },
 "nbformat": 4,
 "nbformat_minor": 2
}
