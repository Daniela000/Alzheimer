{
 "cells": [
  {
   "cell_type": "markdown",
   "metadata": {},
   "source": [
    "Compute learning examples for each time windowv (2,3,4,5y)"
   ]
  },
  {
   "cell_type": "code",
   "execution_count": 2,
   "metadata": {},
   "outputs": [],
   "source": [
    "import pandas as pd"
   ]
  },
  {
   "cell_type": "code",
   "execution_count": 3,
   "metadata": {},
   "outputs": [],
   "source": [
    "dir = 'lisbon'\n",
    "#data = pd.read_csv('../data/'+dir+'/conversion_ad/proteomics_conversion_data.csv') # proteomics data is already min-max normalized (also considering the MCI-other)\n",
    "data = pd.read_csv('../data/'+dir+'/conversion_ad/followup_clean_proteomics_non_norm.csv') # proteomics data not normalized\n",
    "for i in range(2,6):\n",
    "    tw_file = data.copy()\n",
    "    tw_file['Evolution'] = (tw_file['tempofollowup'] <= i).astype(int) # 1 means it converted within the time window period (cMCI) 0, otherwise\n",
    "    tw_file.to_csv('../data/'+dir+'/conversion_ad/{}tw_no_norm.csv'.format(i), index=False)"
   ]
  }
 ],
 "metadata": {
  "kernelspec": {
   "display_name": "Python 3",
   "language": "python",
   "name": "python3"
  },
  "language_info": {
   "codemirror_mode": {
    "name": "ipython",
    "version": 3
   },
   "file_extension": ".py",
   "mimetype": "text/x-python",
   "name": "python",
   "nbconvert_exporter": "python",
   "pygments_lexer": "ipython3",
   "version": "3.10.11"
  }
 },
 "nbformat": 4,
 "nbformat_minor": 2
}
